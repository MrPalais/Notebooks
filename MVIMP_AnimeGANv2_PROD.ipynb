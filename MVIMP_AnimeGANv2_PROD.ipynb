{
  "nbformat": 4,
  "nbformat_minor": 0,
  "metadata": {
    "colab": {
      "name": "MVIMP-AnimeGANv2-Demo.ipynb",
      "provenance": [],
      "private_outputs": true,
      "collapsed_sections": [],
      "include_colab_link": true
    },
    "kernelspec": {
      "name": "python3",
      "display_name": "Python 3"
    },
    "accelerator": "GPU"
  },
  "cells": [
    {
      "cell_type": "markdown",
      "metadata": {
        "id": "view-in-github",
        "colab_type": "text"
      },
      "source": [
        "<a href=\"https://colab.research.google.com/github/MrPalais/Notebooks/blob/main/MVIMP_AnimeGANv2_PROD.ipynb\" target=\"_parent\"><img src=\"https://colab.research.google.com/assets/colab-badge.svg\" alt=\"Open In Colab\"/></a>"
      ]
    },
    {
      "cell_type": "markdown",
      "metadata": {
        "id": "-QypmISklrxI"
      },
      "source": [
        "### STAGE ONE: Prepare dependencies."
      ]
    },
    {
      "cell_type": "code",
      "metadata": {
        "id": "IhAPmDd2_iUc"
      },
      "source": [
        "%tensorflow_version 1.x\n",
        "!ls -l /usr/local/cuda\n",
        "!git clone https://github.com/CyFeng16/MVIMP.git\n",
        "\n",
        "import os\n",
        "os.chdir('/content/MVIMP')\n",
        "!python3 preparation.py"
      ],
      "execution_count": null,
      "outputs": []
    },
    {
      "cell_type": "markdown",
      "metadata": {
        "id": "QFg1fivimM_0"
      },
      "source": [
        "\n",
        "| params \t| abbr. \t| Default \t| Description \t|\n",
        "|-\t|-\t|-\t|-\t|\n",
        "| --style \t| -s \t| Hayao \t| The anime style you want to get. \t|\n",
        "\n",
        "| Style name \t| Anime style \t|\n",
        "|-\t|-\t|\n",
        "| Hayao \t| Miyazaki Hayao \t|\n",
        "| Shinkai \t| Makoto Shinkai \t|\n",
        "| Paprika \t| Kon Satoshi \t|"
      ]
    },
    {
      "cell_type": "code",
      "source": [
        "%cd /content/MVIMP/Data/Input\n",
        "!rm -f *\n",
        "images_dl = \"https://transfer.sh/3sdL2a/740.zip\" #@param {type:\"string\"}\n",
        "!gdown \"$images_dl\"\n",
        "!unzip -q *.zip && rm -f *.zip && rm -f /content/MVIMP/Data/Output/*\n",
        "!ls -1 | wc -l\n",
        "\n",
        "%cd /content/MVIMP\n",
        "style = 'Hayao' #@param [\"Hayao\", \"Shinkai\", \"Paprika\"]\n",
        "!python3 inference_animeganv2.py -s {style} 2>/dev/null\n",
        "\n",
        "%cd /content/MVIMP/Data/Output\n",
        "!ls -1 | wc -l\n",
        "!zip -q {style}.zip *\n",
        "!curl --upload-file {style}.zip https://transfer.sh/{style}.zip"
      ],
      "metadata": {
        "id": "sCSNNBFnEiL-"
      },
      "execution_count": null,
      "outputs": []
    },
    {
      "cell_type": "code",
      "source": [
        "%cd /content/MVIMP/Data/Input\n",
        "!rm -f *\n",
        "images_dl = \"https://transfer.sh/3sdL2a/740.zip\" #@param {type:\"string\"}\n",
        "!gdown \"$images_dl\"\n",
        "!unzip -q *.zip && rm -f *.zip && rm -f /content/MVIMP/Data/Output/*\n",
        "!ls -1 | wc -l\n",
        "\n",
        "%cd /content/MVIMP\n",
        "style = 'Shinkai' #@param [\"Hayao\", \"Shinkai\", \"Paprika\"]\n",
        "!python3 inference_animeganv2.py -s {style} 2>/dev/null\n",
        "\n",
        "%cd /content/MVIMP/Data/Output\n",
        "!ls -1 | wc -l\n",
        "!zip -q {style}.zip *\n",
        "!curl --upload-file {style}.zip https://transfer.sh/{style}.zip"
      ],
      "metadata": {
        "id": "WWrtsbqcM6GH"
      },
      "execution_count": null,
      "outputs": []
    }
  ]
}