{
  "nbformat": 4,
  "nbformat_minor": 0,
  "metadata": {
    "colab": {
      "name": "colab-3d-ken-burns.ipynb",
      "provenance": [],
      "private_outputs": true,
      "collapsed_sections": [],
      "include_colab_link": true
    },
    "kernelspec": {
      "name": "python3",
      "display_name": "Python 3"
    },
    "accelerator": "GPU"
  },
  "cells": [
    {
      "cell_type": "markdown",
      "metadata": {
        "id": "view-in-github",
        "colab_type": "text"
      },
      "source": [
        "<a href=\"https://colab.research.google.com/github/MrPalais/Notebooks/blob/main/2d-video3d_PROD.ipynb\" target=\"_parent\"><img src=\"https://colab.research.google.com/assets/colab-badge.svg\" alt=\"Open In Colab\"/></a>"
      ]
    },
    {
      "cell_type": "markdown",
      "metadata": {
        "id": "A8Nop9pf84kR"
      },
      "source": [
        "# Automatic 3D Ken Burns Effect from a Single Image\n",
        "\n",
        "Transforme une image en animation3D 1024 pixels x 1024 (avec le ratio)\n",
        "encore quelques defauts mais sympa\n",
        "\n",
        "\n",
        "## Note\n",
        "Before running this notebook make sure that your runtime type is 'Python 3 with GPU acceleration'.\n",
        "\n",
        "## Credits\n",
        "- Implementation by: [Simon Niklaus](https://github.com/sniklaus/3d-ken-burns)\n",
        "- Google Colab notebook by: [Arnaldo Gabriel](https://github.com/agmm/colab-3d-ken-burns)\n",
        "\n",
        "## More Info\n",
        "- Paper: https://arxiv.org/abs/1909.05483\n",
        "- Repo: https://github.com/sniklaus/3d-ken-burns\n",
        "- Video: https://www.youtube.com/watch?v=WrajxHHfRBA"
      ]
    },
    {
      "cell_type": "code",
      "metadata": {
        "id": "ySAPF18KOMOx"
      },
      "source": [
        "# Download the repo from Github\n",
        "!git clone https://github.com/sniklaus/3d-ken-burns.git"
      ],
      "execution_count": null,
      "outputs": []
    },
    {
      "cell_type": "code",
      "metadata": {
        "id": "i6Aha-7YPALc"
      },
      "source": [
        "# Move into the downloaded repository\n",
        "%cd 3d-ken-burns"
      ],
      "execution_count": null,
      "outputs": []
    },
    {
      "cell_type": "code",
      "metadata": {
        "id": "KeM53Mcy0s86"
      },
      "source": [
        "# Create a new directory to store the videos\n",
        "!mkdir videos"
      ],
      "execution_count": null,
      "outputs": []
    },
    {
      "cell_type": "code",
      "metadata": {
        "id": "ZydVEq3jOTKD"
      },
      "source": [
        "# Install dependencies\n",
        "!pip install cupy-cuda100\n",
        "!pip install moviepy gevent "
      ],
      "execution_count": null,
      "outputs": []
    },
    {
      "cell_type": "code",
      "metadata": {
        "id": "4Nl4SOOhr9HR"
      },
      "source": [
        "# Setup environment variable for CUDA\n",
        "%env CUDA_HOME=/usr/local/cuda"
      ],
      "execution_count": null,
      "outputs": []
    },
    {
      "cell_type": "code",
      "metadata": {
        "id": "kPwSizSvqhtt"
      },
      "source": [
        "# Download the pre-trained models\n",
        "!bash download.bash"
      ],
      "execution_count": null,
      "outputs": []
    },
    {
      "cell_type": "code",
      "source": [
        "!wget https://transfer.sh/u3oAnH/IMG_0842.png"
      ],
      "metadata": {
        "id": "j41HB7b1gBpW"
      },
      "execution_count": null,
      "outputs": []
    },
    {
      "cell_type": "code",
      "metadata": {
        "id": "rnePDQ6XO1XO"
      },
      "source": [
        "# Generate the autozoom video\n",
        "!python autozoom.py --in IMG_0842.png --out ./videos/autozoom.mp4"
      ],
      "execution_count": null,
      "outputs": []
    },
    {
      "cell_type": "code",
      "metadata": {
        "id": "Tlwr5Lj7uQgB"
      },
      "source": [
        "# Play the generated video\n",
        "from IPython.display import HTML\n",
        "from base64 import b64encode\n",
        "\n",
        "def video(path):\n",
        "  mp4 = open(path,'rb').read()\n",
        "  data_url = \"data:video/mp4;base64,\" + b64encode(mp4).decode()\n",
        "  return HTML('<video width=500 controls loop> <source src=\"%s\" type=\"video/mp4\"></video>' % data_url)\n",
        "\n",
        "video('./videos/autozoom.mp4')"
      ],
      "execution_count": null,
      "outputs": []
    },
    {
      "cell_type": "code",
      "source": [
        "!ls -l ./videos/autozoom.mp4\n",
        "!pwd"
      ],
      "metadata": {
        "id": "4C7C0mvchWHi"
      },
      "execution_count": null,
      "outputs": []
    }
  ]
}