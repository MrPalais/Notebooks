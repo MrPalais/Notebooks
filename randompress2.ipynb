{
  "cells": [
    {
      "cell_type": "markdown",
      "metadata": {
        "id": "view-in-github",
        "colab_type": "text"
      },
      "source": [
        "<a href=\"https://colab.research.google.com/github/MrPalais/Notebooks/blob/main/randompress2.ipynb\" target=\"_parent\"><img src=\"https://colab.research.google.com/assets/colab-badge.svg\" alt=\"Open In Colab\"/></a>"
      ]
    },
    {
      "cell_type": "code",
      "source": [
        "### Cree une liste au format hexa\n",
        "import random\n",
        "\n",
        "taille=10\n",
        "\n",
        "### Main\n",
        "\n",
        "i=0\n",
        "while i < 429496726 :\n",
        "        s=''\n",
        "        random.seed(i)\n",
        "        for n in range(0,taille):\n",
        "                s=s+hex(int(random.random()*256))[2:].zfill(2)\n",
        "        print s\n",
        "        i = i + 1\n",
        "\n"
      ],
      "metadata": {
        "id": "-8YiIzLQ7q9m"
      },
      "execution_count": null,
      "outputs": []
    },
    {
      "cell_type": "code",
      "source": [
        "## Cree une liste de 255 fichiers compresses\n",
        "!rm -rf data\n",
        "import random\n",
        "import subprocess\n",
        "from time import sleep\n",
        "from tqdm import tqdm\n",
        "import os\n",
        "from os import path\n",
        "\n",
        "taille=10\n",
        "\n",
        "if not path.exists (\"data\"):\n",
        "    os.mkdir(\"data\")\n",
        "\n",
        "### Main\n",
        "\n",
        "### Ouvre tous les fichiers\n",
        "f=[]\n",
        "for i in range(0,256) :\n",
        "\tr=hex(i)[2:].zfill(2)\n",
        "\tf.append( open(\"data/\"+r, \"a\", buffering=100000) )\n",
        "\n",
        "### Lance le calcul\n",
        "i=0\n",
        "for i in tqdm(range(0,429496726)):\n",
        "\ts=''\n",
        "\trandom.seed(i)\n",
        "\tfor n in range(0,taille):\n",
        "\t\tt=(int(random.random()*256))\n",
        "\t\tif n == 0 :\n",
        "\t\t\ttt=t\n",
        "\t\tr=hex(t)[2:].zfill(2)\n",
        "\t\ts=s+r\n",
        "\ts=s+':'+str(i)+'\\n'\n",
        "\tf[tt].write(s)\n",
        "\n",
        "### Ferme tous les fichiers\n",
        "for i in range(0,256) :\n",
        "\tf[i].close()\n",
        "\n",
        "\t#p = subprocess.Popen(\"xz -9 >> data/\"+fn+\".xz\", shell=True, stdin=subprocess.PIPE)\n",
        "\t#p.communicate(ss)\n"
      ],
      "metadata": {
        "id": "7a6-ndFT6mke",
        "outputId": "dee5c3d8-c252-43c6-b09b-6fc7d3372c5b",
        "colab": {
          "base_uri": "https://localhost:8080/"
        }
      },
      "execution_count": null,
      "outputs": [
        {
          "output_type": "stream",
          "name": "stderr",
          "text": [
            "  6%|▌         | 25036711/429496726 [08:50<2:21:22, 47683.38it/s]"
          ]
        }
      ]
    },
    {
      "cell_type": "code",
      "source": [
        "### lit un fichier et cherche une chaine et son inverse\n",
        "import binascii\n",
        "import random\n",
        "\n",
        "# Valeurs a trouver\n",
        "at=[]\n",
        "taille=10\n",
        "\n",
        "def checkseed(seed):\n",
        "\tglobal at\n",
        "\tglobal taille\n",
        "\tr=[]\n",
        "\trandom.seed(seed)\n",
        "\t# Creation du tableau\n",
        "\tfor n in range(0,taille):\n",
        "\t\tr.append(chr(int(random.random()*256)))\n",
        "\n",
        "\t# A l'endroit\n",
        "\tsn=''\n",
        "\tfor n in range(0,taille):\n",
        "\t\tj=r[n]\n",
        "\t\t#print ('j='+binascii.hexlify(j)+' at='+binascii.hexlify(at[n]))\n",
        "\t\tif j == at[n]:\n",
        "\t\t\tsn=sn+binascii.hexlify(j)\n",
        "\t\t\t#if n > 0 :\n",
        "\t\t\t#\tprint ('n='+str(n)+'  at='+binascii.hexlify(at[n])+' =  j='+binascii.hexlify(j)+'  Seed='+str(seed))\n",
        "\t\telse:\n",
        "\t\t\tbreak\n",
        "\n",
        "\t# r a l'envers\n",
        "\tsm=''\n",
        "\tfor m in range(0,taille) :\n",
        "\t\tj=r[taille-m-1]\n",
        "\t\t#print ('j='+binascii.hexlify(j)+' at='+binascii.hexlify(at[m]))\n",
        "\t\tif j == at[m]:\n",
        "\t\t\tsm=sm+binascii.hexlify(j)\n",
        "\t\t\t#if m > 0 :\n",
        "\t\t\t#print ('m='+str(n)+'  at='+binascii.hexlify(at[m])+' =  j='+binascii.hexlify(j)+'  Seed='+str(seed))\n",
        "\t\telse:\n",
        "\t\t\tbreak\n",
        "\t\n",
        "\tv=''\n",
        "\treturn [n,m,seed,sn,sm]\n",
        "\n",
        "\n",
        "\n",
        "### Main\n",
        "\t\n",
        "file = open(\"t.zip\",\"rb\")\n",
        "byte = file.read(888)\n",
        "byte = file.read(1)\n",
        "\n",
        "n=0\n",
        "while byte and n < taille:\n",
        "\tat.append(byte)\n",
        "\tbyte = file.read(1)\n",
        "\tn=(n+1)\n",
        "file.close()\n",
        "n=\"\"\n",
        "m=0\n",
        "sn=''\n",
        "sm=''\n",
        "print ('Chaine a trouver : '+binascii.hexlify(n.join(at) ))\n",
        "\n",
        "for i in range (0,4000000):\n",
        "\t(n,m,seed,sn,sm)=checkseed(i)\n",
        "\tif n > 1:\n",
        "\t\tprint ('n:'+str(n)+'  Found='+sn+'  Seed='+str(seed))\n",
        "\tif m > 1:\n",
        "\t\tprint ('m:'+str(m)+'  Found='+sm+'  Seed='+str(seed))\n",
        "\n",
        "\n"
      ],
      "metadata": {
        "id": "z6FLv_8X7E4M"
      },
      "execution_count": null,
      "outputs": []
    }
  ],
  "metadata": {
    "colab": {
      "collapsed_sections": [],
      "name": "VideoColorizerColab.ipynb",
      "provenance": [],
      "include_colab_link": true
    },
    "kernelspec": {
      "display_name": "Python 3",
      "language": "python",
      "name": "python3"
    },
    "language_info": {
      "codemirror_mode": {
        "name": "ipython",
        "version": 3
      },
      "file_extension": ".py",
      "mimetype": "text/x-python",
      "name": "python",
      "nbconvert_exporter": "python",
      "pygments_lexer": "ipython3",
      "version": "3.7.6"
    }
  },
  "nbformat": 4,
  "nbformat_minor": 0
}